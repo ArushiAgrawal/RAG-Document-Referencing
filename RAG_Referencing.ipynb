{
  "nbformat": 4,
  "nbformat_minor": 0,
  "metadata": {
    "colab": {
      "provenance": [],
      "authorship_tag": "ABX9TyPEbY/QDCvdGvHJHOP1ezTD",
      "include_colab_link": true
    },
    "kernelspec": {
      "name": "python3",
      "display_name": "Python 3"
    },
    "language_info": {
      "name": "python"
    }
  },
  "cells": [
    {
      "cell_type": "markdown",
      "metadata": {
        "id": "view-in-github",
        "colab_type": "text"
      },
      "source": [
        "<a href=\"https://colab.research.google.com/github/ArushiAgrawal/RAG-Document-Referencing/blob/main/RAG_Referencing.ipynb\" target=\"_parent\"><img src=\"https://colab.research.google.com/assets/colab-badge.svg\" alt=\"Open In Colab\"/></a>"
      ]
    },
    {
      "cell_type": "markdown",
      "source": [
        "## Demo RAG pipeline for checking Referening within documents"
      ],
      "metadata": {
        "id": "zCfTCz_Y13KX"
      }
    },
    {
      "cell_type": "code",
      "source": [
        "import numpy as np\n",
        "from sklearn.metrics.pairwise import cosine_similarity\n",
        "from transformers import AutoModel, AutoTokenizer"
      ],
      "metadata": {
        "id": "bBs_22aO1zKb"
      },
      "execution_count": null,
      "outputs": []
    },
    {
      "cell_type": "code",
      "execution_count": null,
      "metadata": {
        "id": "0qaGyduepZFL",
        "colab": {
          "base_uri": "https://localhost:8080/",
          "height": 53
        },
        "outputId": "4ea7ee7a-c4cb-44e4-cbec-a982297c621a"
      },
      "outputs": [
        {
          "output_type": "execute_result",
          "data": {
            "text/plain": [
              "'\\nReferencing - \\nDoc A 1.1 - NO\\nDoc A 1.2 - Doc A 1.3\\nDoc A 1.3 - Doc B 2.1\\n\\nDoc B 2.1 - Doc A 1.3\\nDoc B 2.2 - NO\\n\\nDoc C 3.1 - NO\\nDoc C 3.2 - Doc B 2.1\\n\\n'"
            ],
            "application/vnd.google.colaboratory.intrinsic+json": {
              "type": "string"
            }
          },
          "metadata": {},
          "execution_count": 2
        }
      ],
      "source": [
        "# Dummy data\n",
        "documents = {\n",
        "    \"Document A\": {\n",
        "        \"sections\": {\n",
        "            \"Section 1.1\": {\n",
        "                \"content\": \"Elephants are the largest land animals. They live in grasslands and forests, primarily in Africa and Asia.\",\n",
        "                \"references\": []\n",
        "            },\n",
        "            \"Section 1.2\": {\n",
        "                \"content\": \"Elephants are herbivores, primarily eating grass, leaves, and fruits. For more information on carnivorous animals, refer to Section 1.3.\",\n",
        "                \"references\": [\"Section 1.3\"]\n",
        "            },\n",
        "            \"Section 1.3\": {\n",
        "                \"content\": \"Lions are carnivores that hunt herbivores like zebras and antelopes. For carnivorous birds, see Document B, Section 2.1.\",\n",
        "                \"references\": [\"Document B, Section 2.1\"]\n",
        "            }\n",
        "        }\n",
        "    },\n",
        "    \"Document B\": {\n",
        "        \"sections\": {\n",
        "            \"Section 2.1\": {\n",
        "                \"content\": \"Eagles are powerful carnivorous birds. They hunt small mammals, fish, and other birds. For more on carnivorous mammals, see Document A, Section 1.3.\",\n",
        "                \"references\": [\"Document A, Section 1.3\"]\n",
        "            },\n",
        "            \"Section 2.2\": {\n",
        "                \"content\": \"Eagles have keen eyesight and can spot prey from great distances. They are found in various habitats around the world.\",\n",
        "                \"references\": []\n",
        "            }\n",
        "        }\n",
        "    },\n",
        "    \"Document C\": {\n",
        "        \"sections\": {\n",
        "            \"Section 3.1\": {\n",
        "                \"content\": \"Dolphins are intelligent marine mammals. They are known for their complex social behaviors and communication.\",\n",
        "                \"references\": []\n",
        "            },\n",
        "            \"Section 3.2\": {\n",
        "                \"content\": \"Dolphins primarily eat fish and squid. For details on carnivorous birds that hunt fish, refer to Document B, Section 2.1.\",\n",
        "                \"references\": [\"Document B, Section 2.1\"]\n",
        "            }\n",
        "        }\n",
        "    }\n",
        "}\n",
        "\n",
        "'''\n",
        "Referencing -\n",
        "Doc A 1.1 - NO\n",
        "Doc A 1.2 - Doc A 1.3\n",
        "Doc A 1.3 - Doc B 2.1\n",
        "\n",
        "Doc B 2.1 - Doc A 1.3\n",
        "Doc B 2.2 - NO\n",
        "\n",
        "Doc C 3.1 - NO\n",
        "Doc C 3.2 - Doc B 2.1\n",
        "\n",
        "'''"
      ]
    },
    {
      "cell_type": "code",
      "source": [
        "# Basic tokenizer model\n",
        "tokenizer = AutoTokenizer.from_pretrained('bert-base-uncased')\n",
        "model = AutoModel.from_pretrained('bert-base-uncased')\n",
        "\n",
        "# Embedding Model - Simulated using tokenization\n",
        "def generate_embedding(text):\n",
        "    # Tokenize the input text\n",
        "    inputs = tokenizer(text, return_tensors=\"pt\", truncation=True, padding=True)\n",
        "    # Pass inputs through the model to get embeddings\n",
        "    outputs = model(**inputs)\n",
        "    embedding = outputs.last_hidden_state.mean(dim=1).detach().numpy()\n",
        "    return embedding"
      ],
      "metadata": {
        "id": "afOGBdvKsJ7K",
        "colab": {
          "base_uri": "https://localhost:8080/"
        },
        "outputId": "e5258793-c09c-4405-f201-e608ba3b8505"
      },
      "execution_count": null,
      "outputs": [
        {
          "output_type": "stream",
          "name": "stderr",
          "text": [
            "/usr/local/lib/python3.10/dist-packages/huggingface_hub/utils/_token.py:89: UserWarning: \n",
            "The secret `HF_TOKEN` does not exist in your Colab secrets.\n",
            "To authenticate with the Hugging Face Hub, create a token in your settings tab (https://huggingface.co/settings/tokens), set it as secret in your Google Colab and restart your session.\n",
            "You will be able to reuse this secret in all of your notebooks.\n",
            "Please note that authentication is recommended but still optional to access public models or datasets.\n",
            "  warnings.warn(\n",
            "/usr/local/lib/python3.10/dist-packages/transformers/tokenization_utils_base.py:1601: FutureWarning: `clean_up_tokenization_spaces` was not set. It will be set to `True` by default. This behavior will be depracted in transformers v4.45, and will be then set to `False` by default. For more details check this issue: https://github.com/huggingface/transformers/issues/31884\n",
            "  warnings.warn(\n"
          ]
        }
      ]
    },
    {
      "cell_type": "code",
      "source": [
        "# test embedding\n",
        "query = \"What do elephants eat?\"\n",
        "embedding = generate_embedding(query)\n",
        "print(embedding.shape)"
      ],
      "metadata": {
        "colab": {
          "base_uri": "https://localhost:8080/"
        },
        "id": "7zsYtko5s_On",
        "outputId": "227757c8-0a5b-467b-a165-b62442607b48"
      },
      "execution_count": null,
      "outputs": [
        {
          "output_type": "stream",
          "name": "stdout",
          "text": [
            "(1, 768)\n"
          ]
        }
      ]
    },
    {
      "cell_type": "code",
      "source": [
        "# Preprocess and create embeddings for each section\n",
        "document_embeddings = {}\n",
        "# The key of the above dictionary is \"document name - section name\"\n",
        "for doc_name, doc_data in documents.items():\n",
        "    for section_name, section_data in doc_data[\"sections\"].items():\n",
        "        content = section_data[\"content\"]\n",
        "        embedding = generate_embedding(content)\n",
        "        document_embeddings[f\"{doc_name} - {section_name}\"] = {\n",
        "            \"embedding\": embedding,\n",
        "            \"content\": content,\n",
        "            \"references\": section_data[\"references\"]\n",
        "        }"
      ],
      "metadata": {
        "id": "KYy6kAf9sPMW"
      },
      "execution_count": null,
      "outputs": []
    },
    {
      "cell_type": "code",
      "source": [
        "len(document_embeddings)"
      ],
      "metadata": {
        "colab": {
          "base_uri": "https://localhost:8080/"
        },
        "collapsed": true,
        "id": "jT7-m6NVuQ5u",
        "outputId": "8b14cbdc-0275-4904-dfba-8901990921ac"
      },
      "execution_count": null,
      "outputs": [
        {
          "output_type": "execute_result",
          "data": {
            "text/plain": [
              "7"
            ]
          },
          "metadata": {},
          "execution_count": 6
        }
      ]
    },
    {
      "cell_type": "code",
      "source": [
        "# Vector Retrieval Function\n",
        "def retrieve_relevant_sections(query_embedding, k=2):\n",
        "    embeddings = [v[\"embedding\"] for v in document_embeddings.values()]\n",
        "    section_names = list(document_embeddings.keys())\n",
        "\n",
        "    # Calculate cosine similarity between query and document sections\n",
        "    similarities = []\n",
        "    for i in range(len(embeddings)):\n",
        "      similarities.append(cosine_similarity(query_embedding, embeddings[i])[0][0])\n",
        "\n",
        "    top_k_indices = np.array(similarities).argsort()[-k:][::-1]\n",
        "\n",
        "    # Return the top-k relevant sections\n",
        "    relevant_sections = [section_names[i] for i in top_k_indices]\n",
        "    return relevant_sections"
      ],
      "metadata": {
        "id": "Ge1mx_3UsXHO"
      },
      "execution_count": null,
      "outputs": []
    },
    {
      "cell_type": "code",
      "source": [
        "# testing Retrieval Function\n",
        "query_embedding = generate_embedding(query)\n",
        "retrieve_relevant_sections(query_embedding, k=2)"
      ],
      "metadata": {
        "colab": {
          "base_uri": "https://localhost:8080/"
        },
        "id": "25xFOrp4xQrI",
        "outputId": "ef48867b-e74d-4095-dc01-5fa29505a8aa"
      },
      "execution_count": null,
      "outputs": [
        {
          "output_type": "execute_result",
          "data": {
            "text/plain": [
              "['Document A - Section 1.1', 'Document A - Section 1.2']"
            ]
          },
          "metadata": {},
          "execution_count": 8
        }
      ]
    },
    {
      "cell_type": "code",
      "source": [
        "# Cross-Reference Expansion\n",
        "def expand_with_references(relevant_sections):\n",
        "    expanded_sections = set(relevant_sections)\n",
        "\n",
        "    # Retrieve all referenced sections\n",
        "    for section in relevant_sections:\n",
        "        references = document_embeddings[section][\"references\"]\n",
        "\n",
        "        for ref in references:\n",
        "          if len(ref.split(\", \"))>1: # External reference\n",
        "            expanded_sections.add(f'{ref.split(\", \")[0]} - {ref.split(\", \")[1]}')\n",
        "\n",
        "          else:  # Same document reference\n",
        "            doc_name = section.split(\" - \")[0]\n",
        "            expanded_sections.add(f\"{doc_name} - {ref}\")\n",
        "\n",
        "    return list(expanded_sections)\n"
      ],
      "metadata": {
        "id": "2gCAFJt5sZy9"
      },
      "execution_count": null,
      "outputs": []
    },
    {
      "cell_type": "code",
      "source": [
        "expand_with_references(['Document A - Section 1.2'])"
      ],
      "metadata": {
        "colab": {
          "base_uri": "https://localhost:8080/"
        },
        "id": "cjEIqnJQ7r6d",
        "outputId": "61833416-2830-40a9-8c3f-a36986d3418d"
      },
      "execution_count": null,
      "outputs": [
        {
          "output_type": "execute_result",
          "data": {
            "text/plain": [
              "['Document A - Section 1.3', 'Document A - Section 1.2']"
            ]
          },
          "metadata": {},
          "execution_count": 10
        }
      ]
    },
    {
      "cell_type": "code",
      "source": [
        "expand_with_references(['Document A - Section 1.3'])"
      ],
      "metadata": {
        "colab": {
          "base_uri": "https://localhost:8080/"
        },
        "id": "fcBWD1c7-xj8",
        "outputId": "c4173b09-2a02-4951-c1b0-2d34ab6d6ba4"
      },
      "execution_count": null,
      "outputs": [
        {
          "output_type": "execute_result",
          "data": {
            "text/plain": [
              "['Document A - Section 1.3', 'Document B - Section 2.1']"
            ]
          },
          "metadata": {},
          "execution_count": 11
        }
      ]
    },
    {
      "cell_type": "code",
      "source": [
        "# Answer Generation  - Placeholder for actual LLM, using string concatenation\n",
        "def generate_answer(relevant_sections):\n",
        "    content_pieces = []\n",
        "    for section in relevant_sections:\n",
        "        content_pieces.append(f\"{section}: {document_embeddings[section]['content']}\")\n",
        "\n",
        "    return \"\\n\\n\".join(content_pieces)"
      ],
      "metadata": {
        "id": "EMFgxMZZseh-"
      },
      "execution_count": null,
      "outputs": []
    },
    {
      "cell_type": "code",
      "source": [
        "def answer_user_query(query):\n",
        "\n",
        "    print(f\"User Query: {query}\\n\")\n",
        "\n",
        "    # Step 1: Process query and generate embedding\n",
        "    query_embedding = generate_embedding(query)\n",
        "\n",
        "    # Step 2: Retrieve the most relevant sections\n",
        "    relevant_sections = retrieve_relevant_sections(query_embedding, k=2)\n",
        "    print(f\"Top Relevant Sections: {relevant_sections}\\n\")\n",
        "\n",
        "    # Step 3: Expand sections with cross-references\n",
        "    expanded_sections = expand_with_references(relevant_sections)\n",
        "    print(f\"Expanded Sections (with references): {expanded_sections}\\n\")\n",
        "\n",
        "    # Step 4: Generate the final answer\n",
        "    answer = generate_answer(expanded_sections)\n",
        "\n",
        "    print(f\"Generated Answer:\\n{answer}\")\n"
      ],
      "metadata": {
        "id": "EO8T3eKisjje"
      },
      "execution_count": null,
      "outputs": []
    },
    {
      "cell_type": "code",
      "source": [
        "# Example 1\n",
        "user_query = \"What do elephants eat?\"\n",
        "answer_user_query(user_query)"
      ],
      "metadata": {
        "colab": {
          "base_uri": "https://localhost:8080/"
        },
        "id": "GfhQcgsqslvu",
        "outputId": "8210bf05-ed4b-4113-aba7-76c5005febb0"
      },
      "execution_count": null,
      "outputs": [
        {
          "output_type": "stream",
          "name": "stdout",
          "text": [
            "User Query: What do elephants eat?\n",
            "\n",
            "Top Relevant Sections: ['Document A - Section 1.1', 'Document A - Section 1.2']\n",
            "\n",
            "Expanded Sections (with references): ['Document A - Section 1.3', 'Document A - Section 1.2', 'Document A - Section 1.1']\n",
            "\n",
            "Generated Answer:\n",
            "Document A - Section 1.3: Lions are carnivores that hunt herbivores like zebras and antelopes. For carnivorous birds, see Document B, Section 2.1.\n",
            "\n",
            "Document A - Section 1.2: Elephants are herbivores, primarily eating grass, leaves, and fruits. For more information on carnivorous animals, refer to Section 1.3.\n",
            "\n",
            "Document A - Section 1.1: Elephants are the largest land animals. They live in grasslands and forests, primarily in Africa and Asia.\n"
          ]
        }
      ]
    },
    {
      "cell_type": "code",
      "source": [
        "# Example 2\n",
        "user_query = \"What can you tell me about dolphins?\"\n",
        "answer_user_query(user_query)"
      ],
      "metadata": {
        "id": "Te5MaoY4srpp",
        "colab": {
          "base_uri": "https://localhost:8080/"
        },
        "outputId": "32b0ec9c-cfad-4055-c384-07fbe4dd65a3"
      },
      "execution_count": null,
      "outputs": [
        {
          "output_type": "stream",
          "name": "stdout",
          "text": [
            "User Query: What can you tell me about dolphins?\n",
            "\n",
            "Top Relevant Sections: ['Document C - Section 3.2', 'Document A - Section 1.2']\n",
            "\n",
            "Expanded Sections (with references): ['Document A - Section 1.3', 'Document A - Section 1.2', 'Document B - Section 2.1', 'Document C - Section 3.2']\n",
            "\n",
            "Generated Answer:\n",
            "Document A - Section 1.3: Lions are carnivores that hunt herbivores like zebras and antelopes. For carnivorous birds, see Document B, Section 2.1.\n",
            "\n",
            "Document A - Section 1.2: Elephants are herbivores, primarily eating grass, leaves, and fruits. For more information on carnivorous animals, refer to Section 1.3.\n",
            "\n",
            "Document B - Section 2.1: Eagles are powerful carnivorous birds. They hunt small mammals, fish, and other birds. For more on carnivorous mammals, see Document A, Section 1.3.\n",
            "\n",
            "Document C - Section 3.2: Dolphins primarily eat fish and squid. For details on carnivorous birds that hunt fish, refer to Document B, Section 2.1.\n"
          ]
        }
      ]
    },
    {
      "cell_type": "code",
      "source": [],
      "metadata": {
        "id": "nAhB2kjQ6pJk"
      },
      "execution_count": null,
      "outputs": []
    }
  ]
}